{
 "cells": [
  {
   "cell_type": "markdown",
   "id": "aa0d6e63",
   "metadata": {},
   "source": [
    "## 15.1\n",
    "Peruse your daily newspaper for three examples of ambiguous esntences or headlines. Describe the various sources of the ambiguities."
   ]
  },
  {
   "cell_type": "markdown",
   "id": "f1c7c8dc",
   "metadata": {},
   "source": [
    "## 15.2\n",
    "Consider a domain in which the word *coffee* can refer to the following concepts in a knowledge-based system: a caffeinated or decaffeinated beverage, ground coffee used to make either kind of beverage, and the beans themselves. Give arguments as to which of the following uses of coffee are ambiguous and which are vague.\n",
    "1. I've had my coffee for today.\n",
    "1. Buy some coffee on your way home\n",
    "1. Please grind some more coffee."
   ]
  },
  {
   "cell_type": "markdown",
   "id": "63cbd11b",
   "metadata": {},
   "source": [
    "## 15.3\n",
    "The following rule, which we gave as a translation for Example 15.25, is not a reasonable definition of what it means to be a vegetarian restaurant.\n",
    "\n",
    "$\n",
    "\\forall x VegetarianRestaurant(x) \\implies Serves(x, VegetarianFood)\n",
    "$\n",
    "\n",
    "Give a FOL rule that better defines vegetarian restaurants in terms of what they serve."
   ]
  },
  {
   "cell_type": "markdown",
   "id": "f5e724da",
   "metadata": {},
   "source": [
    "## 15.4\n",
    "Give FOL translations for the following sentences:\n",
    "1. Vegetarians do not eat meat.\n",
    "1. Not all vegetarians eat eggs."
   ]
  },
  {
   "cell_type": "markdown",
   "id": "bebb946b",
   "metadata": {},
   "source": [
    "1. $\\lnot Eat(Vegetarian, Meat)$\n",
    "1. $\\lnot \\forall x Vegetarian(x) \\implies Eat(x, Eggs)$"
   ]
  },
  {
   "cell_type": "markdown",
   "id": "03e172c6",
   "metadata": {},
   "source": [
    "## 15.5\n",
    "Give a set of facts and inferences necessary to prove the following assertions:\n",
    "1. McDonald's is not a vegetarian restaurant.\n",
    "1. Some vegetarians can eat at McDonald's.\n",
    "\n",
    "Don't just place these facts in your knowledge base. Show that they can be inferred from some more general facts about vegetarians and McDonald's."
   ]
  },
  {
   "cell_type": "markdown",
   "id": "fd8a15e2",
   "metadata": {},
   "source": [
    "1. $\\forall x McDonald's(x) \\implies \\lnot \\forall y Serves(x, y) \\land VegetarianFood(y)$  \n",
    "$\\forall x VegetarianRestaurant(x) \\implies \\forall y Serves(x, y) \\land VegetarianFood(y)$\n",
    "1. $\\forall x McDonald's(x) \\implies \\exists y Serves(x, y) \\land VegetarianFood(y)$  \n",
    "$\\forall x Vegetarian(x) \\implies Eat(x, VegetarianFood)$"
   ]
  },
  {
   "cell_type": "markdown",
   "id": "baf1d7cd",
   "metadata": {},
   "source": [
    "## 15.6\n",
    "For the following sentences, give FOL translations that capture the temporal relationships between the events.\n",
    "1. When Mary’s flight departed, I ate lunch.\n",
    "1. When Mary’s flight departed, I had eaten lunch."
   ]
  },
  {
   "cell_type": "markdown",
   "id": "50483f34",
   "metadata": {},
   "source": [
    "## 15.7\n",
    "On page 12, we gave the representation Near(Centro,Bacaro) as a translation for the sentence Centro is near Bacaro. In a truth-conditional semantics, this formula is either true or false given some model. Critique this truthconditional approach with respect to the meaning of words like near."
   ]
  },
  {
   "cell_type": "code",
   "execution_count": null,
   "id": "5a17ee7b",
   "metadata": {},
   "outputs": [],
   "source": []
  }
 ],
 "metadata": {
  "kernelspec": {
   "display_name": "Python 3",
   "language": "python",
   "name": "python3"
  },
  "language_info": {
   "codemirror_mode": {
    "name": "ipython",
    "version": 3
   },
   "file_extension": ".py",
   "mimetype": "text/x-python",
   "name": "python",
   "nbconvert_exporter": "python",
   "pygments_lexer": "ipython3",
   "version": "3.8.7"
  }
 },
 "nbformat": 4,
 "nbformat_minor": 5
}
