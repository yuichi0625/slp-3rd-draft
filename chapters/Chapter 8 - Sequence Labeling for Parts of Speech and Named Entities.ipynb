{
 "cells": [
  {
   "cell_type": "markdown",
   "id": "be6d9a55",
   "metadata": {},
   "source": [
    "## 8.1\n",
    "Find one tagging error in each of the following sentences that are tagged with the Penn Treebank tagset:\n",
    "1. I/PRP need/VBP a/DT flight/NN from/IN Atlanta/NN\n",
    "1. Does/VBZ this/DT flight/NN serve/VB dinner/NNS\n",
    "1. I/PRP have/VB a/DT friend/NN living/VBG in/IN Denver/NNP\n",
    "1. Can/VBP you/PRP list/VB the/DT nonstop/JJ afternoon/NN flights/NNS"
   ]
  },
  {
   "cell_type": "code",
   "execution_count": 1,
   "id": "858f8780",
   "metadata": {},
   "outputs": [
    {
     "data": {
      "text/html": [
       "<div>\n",
       "<style scoped>\n",
       "    .dataframe tbody tr th:only-of-type {\n",
       "        vertical-align: middle;\n",
       "    }\n",
       "\n",
       "    .dataframe tbody tr th {\n",
       "        vertical-align: top;\n",
       "    }\n",
       "\n",
       "    .dataframe thead th {\n",
       "        text-align: right;\n",
       "    }\n",
       "</style>\n",
       "<table border=\"1\" class=\"dataframe\">\n",
       "  <thead>\n",
       "    <tr style=\"text-align: right;\">\n",
       "      <th></th>\n",
       "      <th>error</th>\n",
       "      <th>answer</th>\n",
       "    </tr>\n",
       "  </thead>\n",
       "  <tbody>\n",
       "    <tr>\n",
       "      <th>1</th>\n",
       "      <td>Attlanta/NN</td>\n",
       "      <td>Atlanta/NNP</td>\n",
       "    </tr>\n",
       "    <tr>\n",
       "      <th>2</th>\n",
       "      <td>dinner/NNS</td>\n",
       "      <td>dinner/NN</td>\n",
       "    </tr>\n",
       "    <tr>\n",
       "      <th>3</th>\n",
       "      <td>have/VB</td>\n",
       "      <td>have/VBP</td>\n",
       "    </tr>\n",
       "    <tr>\n",
       "      <th>4</th>\n",
       "      <td>Can/VBP</td>\n",
       "      <td>Can/MD</td>\n",
       "    </tr>\n",
       "  </tbody>\n",
       "</table>\n",
       "</div>"
      ],
      "text/plain": [
       "         error       answer\n",
       "1  Attlanta/NN  Atlanta/NNP\n",
       "2   dinner/NNS    dinner/NN\n",
       "3      have/VB     have/VBP\n",
       "4      Can/VBP       Can/MD"
      ]
     },
     "execution_count": 1,
     "metadata": {},
     "output_type": "execute_result"
    }
   ],
   "source": [
    "import pandas as pd\n",
    "\n",
    "pd.DataFrame([\n",
    "    ['Attlanta/NN', 'Atlanta/NNP'],\n",
    "    ['dinner/NNS', 'dinner/NN'],\n",
    "    ['have/VB', 'have/VBP'],\n",
    "    ['Can/VBP', 'Can/MD']\n",
    "], columns=['error', 'answer'], index=list(range(1, 5)))"
   ]
  },
  {
   "cell_type": "markdown",
   "id": "b8edcb99",
   "metadata": {},
   "source": [
    "## 8.2\n",
    "Use the Penn Treebank tagset to tag each word in the following sentences from Damon Runyon’s short stories. You may ignore punctuation. Some of these are quite difficult; do your best.\n",
    "1. It is a nice night.\n",
    "1. This crap game is over a garage in Fifty-second Street. . .\n",
    "1. . . . Nobody ever takes the newspapers she sells . . .\n",
    "1. He is a tall, skinny guy with a long, sad, mean-looking kisser, and a mournful voice.\n",
    "1. . . . I am sitting in Mindy’s restaurant putting on the gefillte fish, which is a dish I am very fond of, . . .\n",
    "1. When a guy and a doll get to taking peeks back and forth at each other, why there you are indeed."
   ]
  },
  {
   "cell_type": "markdown",
   "id": "55872832",
   "metadata": {},
   "source": [
    "1. It/PRP is/VBZ a/DT nice/JJ night/NN\n",
    "1. This/DT crap/NNP game/NNP is/VBZ over/IN a/DT garage/NN in/IN FIfty-second/NNP Street/NNP\n",
    "1. Nobody/NN ever/RB takes/VBZ the/DT newspapers/NNS she/PRP sells/VBZ\n",
    "1. He/PRP is/VBZ a/DT tall/JJ skinny/JJ guy/NN with/IN a/DT long/JJ sad/JJ mean-looking/JJ kisser/NN and/CC a/DT mournful/JJ voice/NN\n",
    "1. I/PRP am/VBP sitting/VBG in/IN Mindy/NNP 's/POS restaurant/NN putting/VBG on/IN the/DT gefillte/NNP fish/NNP which/WDT is/VBZ a/DT dish/NN I/PRP am/VBP very/RB fond/JJ of/IN\n",
    "1. When/WRB a/DT guy/NN and/CC a/DT doll/NN get/VBP to/TO taking/VBG peeks/NNS back/RB and/CC forth/RB at/IN each/DT other/JJ why/WRB there/RB you/PRP are/VBP indeed/RB"
   ]
  },
  {
   "cell_type": "markdown",
   "id": "ec4ececc",
   "metadata": {},
   "source": [
    "## 8.3\n",
    "Now compare your tags from the previous exercise with one or two friend’s answers. On which words did you disagree the most? Why?"
   ]
  },
  {
   "cell_type": "code",
   "execution_count": null,
   "id": "9fd0a3b0",
   "metadata": {},
   "outputs": [],
   "source": []
  },
  {
   "cell_type": "markdown",
   "id": "8850d0ee",
   "metadata": {},
   "source": [
    "## 8.4\n",
    "Implement the “most likely tag” baseline. Find a POS-tagged training set, and use it to compute for each word the tag that maximizes $p(t|w)$. You will need to implement a simple tokenizer to deal with sentence boundaries. Start by assuming that all unknown words are NN and compute your error rate on known and unknown words. Now write at least five rules to do a better job of tagging unknown words, and show the difference in error rates."
   ]
  },
  {
   "cell_type": "code",
   "execution_count": 2,
   "id": "4a7f985d",
   "metadata": {},
   "outputs": [],
   "source": [
    "# Download train.txt and test.txt from https://www.clips.uantwerpen.be/conll2000/chunking/\n",
    "train_path = 'train.txt'\n",
    "test_path = 'test.txt'"
   ]
  },
  {
   "cell_type": "code",
   "execution_count": 3,
   "id": "6efd840e",
   "metadata": {},
   "outputs": [
    {
     "name": "stdout",
     "output_type": "stream",
     "text": [
      "said VBD B-VP\n",
      "the DT B-NP\n",
      "agreement NN I-NP\n",
      "calls VBZ B-VP\n",
      "for IN B-SBAR\n",
      "it PRP B-NP\n",
      "to TO B-VP\n",
      "supply VB I-VP\n",
      "200 CD B-NP\n",
      "additional JJ I-NP\n",
      "so-called JJ I-NP\n",
      "shipsets NNS I-NP\n",
      "for IN B-PP\n",
      "the DT B-NP\n",
      "planes NNS I-NP\n",
      ". . O\n"
     ]
    }
   ],
   "source": [
    "# Check its content.\n",
    "with open(test_path) as f:\n",
    "    for line in f.readlines()[30:46]:\n",
    "        print(line.strip())"
   ]
  },
  {
   "cell_type": "code",
   "execution_count": 4,
   "id": "9b9ed425",
   "metadata": {},
   "outputs": [
    {
     "data": {
      "text/plain": [
       "['#',\n",
       " '$',\n",
       " \"''\",\n",
       " '(',\n",
       " ')',\n",
       " ',',\n",
       " '.',\n",
       " ':',\n",
       " 'CC',\n",
       " 'CD',\n",
       " 'DT',\n",
       " 'EX',\n",
       " 'FW',\n",
       " 'IN',\n",
       " 'JJ',\n",
       " 'JJR',\n",
       " 'JJS',\n",
       " 'MD',\n",
       " 'NN',\n",
       " 'NNP',\n",
       " 'NNPS',\n",
       " 'NNS',\n",
       " 'PDT',\n",
       " 'POS',\n",
       " 'PRP',\n",
       " 'PRP$',\n",
       " 'RB',\n",
       " 'RBR',\n",
       " 'RBS',\n",
       " 'RP',\n",
       " 'SYM',\n",
       " 'TO',\n",
       " 'UH',\n",
       " 'VB',\n",
       " 'VBD',\n",
       " 'VBG',\n",
       " 'VBN',\n",
       " 'VBP',\n",
       " 'VBZ',\n",
       " 'WDT',\n",
       " 'WP',\n",
       " 'WP$',\n",
       " 'WRB',\n",
       " '``']"
      ]
     },
     "execution_count": 4,
     "metadata": {},
     "output_type": "execute_result"
    }
   ],
   "source": [
    "# See what kind of POS tags it has.\n",
    "pos_set = set()\n",
    "\n",
    "def add_pos(path):\n",
    "    with open(path) as f:\n",
    "        for line in iter(f.readline, ''):\n",
    "            line = line.strip()\n",
    "            if line:\n",
    "                word, pos, bio = line.split(' ')\n",
    "                pos_set.add(pos)\n",
    "\n",
    "add_pos(train_path)\n",
    "add_pos(test_path)\n",
    "\n",
    "sorted(list(pos_set))"
   ]
  },
  {
   "cell_type": "code",
   "execution_count": 5,
   "id": "d39b967b",
   "metadata": {},
   "outputs": [],
   "source": [
    "# Load train and text dataset.\n",
    "def load(path):\n",
    "    pos_oov = {'#', '$', \"''\", '(', ')', ',', '.', ':', '``'}\n",
    "    ds = {'words_list': [], 'pos_tags_list': []}\n",
    "    with open(path) as f:\n",
    "        for sent in f.read().strip().split('\\n\\n'):\n",
    "            d = {'words': [], 'pos_tags': []}\n",
    "            for line in sent.split('\\n'):\n",
    "                word, pos, bio = line.split(' ')\n",
    "                if pos not in pos_oov:\n",
    "                    d['words'].append(word.lower())\n",
    "                    d['pos_tags'].append(pos)\n",
    "            if d['words'] and d['pos_tags']:\n",
    "                ds['words_list'].append(d['words'])\n",
    "                ds['pos_tags_list'].append(d['pos_tags'])\n",
    "    return ds\n",
    "\n",
    "train = load(train_path)\n",
    "test = load(test_path)"
   ]
  },
  {
   "cell_type": "markdown",
   "id": "d84d0174",
   "metadata": {},
   "source": [
    "(again)  \n",
    "Implement the “most likely tag” baseline. Find a POS-tagged training set, and use it to compute for each word the tag that maximizes $p(t|w)$. You will need to implement a simple tokenizer to deal with sentence boundaries. Start by assuming that all unknown words are NN and compute your error rate on known and unknown words. Now write at least five rules to do a better job of tagging unknown words, and show the difference in error rates."
   ]
  },
  {
   "cell_type": "code",
   "execution_count": 6,
   "id": "a007c22e",
   "metadata": {},
   "outputs": [],
   "source": [
    "# Implement \"most likely tag\"ger with assigning NN to unknown words\n",
    "from collections import defaultdict, Counter\n",
    "from typing import List\n",
    "\n",
    "class MostLikelyTagger:\n",
    "    def __init__(self):\n",
    "        self.trained = False\n",
    "\n",
    "    def __call__(self, X: List[List[str]]):\n",
    "        if not self.trained:\n",
    "            raise Error('Call fit method before predicting.')\n",
    "\n",
    "        y = []\n",
    "        for words in X:\n",
    "            tags = []\n",
    "            for word in words:\n",
    "                if word not in self.d.keys():\n",
    "                    tags.append(self._tag_by_rules(word))\n",
    "                else:\n",
    "                    tags.append(self.d[word])\n",
    "            y.append(tags)\n",
    "        return y\n",
    "\n",
    "    def fit(self, X: List[List[str]], y: List[List[str]]):\n",
    "        d = defaultdict(list)\n",
    "        for words, tags in zip(X, y):\n",
    "            for word, tag in zip(words, tags):\n",
    "                d[word].append(tag)\n",
    "        self.d = {word: Counter(tags).most_common()[0][0] for word, tags in d.items()}\n",
    "        self.trained = True\n",
    "\n",
    "    @staticmethod\n",
    "    def _tag_by_rules(word):\n",
    "        return 'NN'\n",
    "\n",
    "def evaluate(preds: List[List[str]], labels: List[List[str]]) -> float:\n",
    "    results = []\n",
    "    for pred_tags, tags in zip(preds, labels):\n",
    "        for pred_tag, tag in zip(pred_tags, tags):\n",
    "            results.append(pred_tag == tag)\n",
    "\n",
    "    return sum(results) / len(results)"
   ]
  },
  {
   "cell_type": "code",
   "execution_count": 7,
   "id": "ea24bdbd",
   "metadata": {},
   "outputs": [
    {
     "name": "stdout",
     "output_type": "stream",
     "text": [
      "accuracy: 0.8741162891357669\n"
     ]
    }
   ],
   "source": [
    "# Check its accuracy word-wise\n",
    "base_tagger = MostLikelyTagger()\n",
    "base_tagger.fit(train['words_list'], train['pos_tags_list'])\n",
    "\n",
    "base_preds = base_tagger(test['words_list'])\n",
    "\n",
    "acc = evaluate(base_preds, test['pos_tags_list'])\n",
    "print(f'accuracy: {acc}')"
   ]
  },
  {
   "cell_type": "code",
   "execution_count": 8,
   "id": "70c86ce0",
   "metadata": {},
   "outputs": [],
   "source": [
    "# Next implement 5 rules for unknown words\n",
    "import re\n",
    "\n",
    "class ModifiedMostLikelyTagger(MostLikelyTagger):\n",
    "    @staticmethod\n",
    "    def _tag_by_rules(word):\n",
    "        # Contains number -> CD\n",
    "        if re.search('\\d', word):\n",
    "            return 'CD'\n",
    "        # Ends with ing -> VBG\n",
    "        elif word.endswith('ing'):\n",
    "            return 'VBG'\n",
    "        # Ends with ly -> RB\n",
    "        elif word.endswith('ly'):\n",
    "            return 'RB'\n",
    "        # Ends with some adjective endings -> JJ\n",
    "        elif re.search('\\w+(able|alful|ic|ish|ive|less)$', word):\n",
    "            return 'JJ'\n",
    "        # Otherwise\n",
    "        else:\n",
    "            return 'NN'"
   ]
  },
  {
   "cell_type": "code",
   "execution_count": 9,
   "id": "e51d19e6",
   "metadata": {},
   "outputs": [
    {
     "name": "stdout",
     "output_type": "stream",
     "text": [
      "accuracy: 0.8843841677487616\n"
     ]
    }
   ],
   "source": [
    "# See how well the slightly rule-based model works\n",
    "rule_tagger = ModifiedMostLikelyTagger()\n",
    "rule_tagger.fit(train['words_list'], train['pos_tags_list'])\n",
    "\n",
    "rule_preds = rule_tagger(test['words_list'])\n",
    "\n",
    "acc = evaluate(rule_preds, test['pos_tags_list'])\n",
    "print(f'accuracy: {acc}')"
   ]
  },
  {
   "cell_type": "markdown",
   "id": "8a544bac",
   "metadata": {},
   "source": [
    "## 8.5\n",
    "Build a bigram HMM tagger. You will need a part-of-speech-tagged corpus. First split the corpus into a training set and test set. From the labeled training set, train the transition and observation probabilities of the HMM tagger directly on the hand-tagged data. Then implement the Viterbi algorithm so you can decode a test sentence. Now run your algorithm on the test set. Report its error rate and compare its performance to the most frequent tag baseline."
   ]
  },
  {
   "cell_type": "code",
   "execution_count": 10,
   "id": "827df199",
   "metadata": {},
   "outputs": [],
   "source": [
    "import itertools\n",
    "from collections import Counter\n",
    "from typing import List\n",
    "import numpy as np\n",
    "from tqdm.notebook import tqdm\n",
    "\n",
    "class HMMTagger:\n",
    "    def __init__(self):\n",
    "        self.trained = False\n",
    "\n",
    "    def __call__(self, X: List[List[str]]):\n",
    "        if not self.trained:\n",
    "            raise Error('Call fit method before predicting.')\n",
    "\n",
    "        y = []\n",
    "        for words in tqdm(X):\n",
    "            tags = self.viterbi(words)\n",
    "            y.append(tags)\n",
    "\n",
    "        return y\n",
    "\n",
    "    def viterbi(self, words: List[str]):\n",
    "        viterbi = np.zeros((len(self.tags) - 1, len(words)))\n",
    "        backpointer = np.zeros((len(self.tags) - 1, len(words)))\n",
    "        vocab_set = set(self.vocab)\n",
    "\n",
    "        init_word = words[0]\n",
    "        for s in range(len(self.tags) - 1):\n",
    "            if init_word in vocab_set:\n",
    "                emission = self.emission_matrix[s, self.vocab.index(init_word)]\n",
    "            else:\n",
    "                emission = self.unknown_dist[s]\n",
    "            viterbi[s, 0] = self.transition_matrix[self.tags.index('<s>'), s] * emission\n",
    "\n",
    "        for t, word in enumerate(words[1:], 1):\n",
    "            for s in range(len(self.tags) - 1):\n",
    "                if word in vocab_set:\n",
    "                    emission = self.emission_matrix[s, self.vocab.index(word)]\n",
    "                    candidates = [viterbi[s_, t - 1] * self.transition_matrix[s_, s] * emission\n",
    "                                  for s_ in range(len(self.tags) - 1)]\n",
    "                else:\n",
    "                    emission = self.unknown_dist[s]\n",
    "                    candidates = [viterbi[s_, t-1] * emission for s_ in range(len(self.tags) - 1)]\n",
    "\n",
    "                viterbi[s, t] = max(candidates)\n",
    "                backpointer[s, t] = candidates.index(viterbi[s, t])\n",
    "\n",
    "        pointer = viterbi[:, -1].argmax()\n",
    "        length = len(words)\n",
    "        tags = []\n",
    "        for i in range(length):\n",
    "            tag = self.tags[pointer]\n",
    "            tags.append(tag)\n",
    "            pointer = int(backpointer[:, length-i-1][pointer])\n",
    "\n",
    "        return tags[::-1]\n",
    "\n",
    "    def fit(self, X: List[List[str]], y: List[List[str]]):\n",
    "        self.vocab = list(set(itertools.chain.from_iterable(X)))\n",
    "        self.tags = list(set(itertools.chain.from_iterable(y)))\n",
    "        self.tags.append('<s>')\n",
    "\n",
    "        self.emission_matrix = np.zeros((len(self.tags) - 1, len(self.vocab)))\n",
    "        self.transition_matrix = np.zeros((len(self.tags), len(self.tags) - 1))\n",
    "\n",
    "        for words, tags in tqdm(zip(X, y), total=len(X)):\n",
    "            for i in range(len(words)):\n",
    "                self.emission_matrix[self.tags.index(tags[i]), self.vocab.index(words[i])] += 1\n",
    "                if i < len(words) - 1:\n",
    "                    self.transition_matrix[self.tags.index('<s>' if i == 0 else tags[i - 1]), self.tags.index(tags[i])] += 1\n",
    "\n",
    "        # Extract tags of words which appear only once.\n",
    "        # This will be used as a distribution for unknown words.\n",
    "        tags = [self.tags[np.where(self.emission_matrix[:, i] == 1)[0][0]]\n",
    "                for i in np.where(self.emission_matrix.sum(axis=0) == 1)[0]]\n",
    "        count = Counter(tags)\n",
    "        self.unknown_dist = np.array([0 if tag not in count.keys() else count[tag]\n",
    "                                      for tag in self.tags if tag != '<s>'], dtype=np.float64)\n",
    "\n",
    "        # add-k smoothing -> normalize\n",
    "        k = 0.1\n",
    "        self.emission_matrix += k\n",
    "        self.emission_matrix /= self.emission_matrix.sum(axis=1).reshape(-1, 1)\n",
    "        self.transition_matrix += k\n",
    "        self.transition_matrix /= self.transition_matrix.sum(axis=1).reshape(-1, 1)\n",
    "        self.unknown_dist += k\n",
    "        self.unknown_dist /= self.unknown_dist.sum()\n",
    "\n",
    "        self.trained = True"
   ]
  },
  {
   "cell_type": "code",
   "execution_count": 11,
   "id": "022230db",
   "metadata": {},
   "outputs": [
    {
     "data": {
      "application/vnd.jupyter.widget-view+json": {
       "model_id": "1d61ac18f24d431685cc7a7fcf5a413e",
       "version_major": 2,
       "version_minor": 0
      },
      "text/plain": [
       "  0%|          | 0/8936 [00:00<?, ?it/s]"
      ]
     },
     "metadata": {},
     "output_type": "display_data"
    },
    {
     "data": {
      "application/vnd.jupyter.widget-view+json": {
       "model_id": "da55cb6c06214272b504a4c0ac6f2059",
       "version_major": 2,
       "version_minor": 0
      },
      "text/plain": [
       "  0%|          | 0/2012 [00:00<?, ?it/s]"
      ]
     },
     "metadata": {},
     "output_type": "display_data"
    },
    {
     "name": "stdout",
     "output_type": "stream",
     "text": [
      "accuracy: 0.9110758428317222\n"
     ]
    }
   ],
   "source": [
    "hmm_tagger = HMMTagger()\n",
    "hmm_tagger.fit(train['words_list'], train['pos_tags_list'])\n",
    "\n",
    "hmm_preds = hmm_tagger(test['words_list'])\n",
    "\n",
    "acc = evaluate(hmm_preds, test['pos_tags_list'])\n",
    "print(f'accuracy: {acc}')"
   ]
  },
  {
   "cell_type": "code",
   "execution_count": 12,
   "id": "fd7286ef",
   "metadata": {},
   "outputs": [],
   "source": [
    "# But it takes around 0.1-0.2 seconds for one sentence..."
   ]
  },
  {
   "cell_type": "markdown",
   "id": "a5a967d4",
   "metadata": {},
   "source": [
    "## 8.6\n",
    "Do an error analysis of your tagger. Build a confusion matrix and investigate the most frequent errors. Propose some features for improving the performance of your tagger on these errors."
   ]
  },
  {
   "cell_type": "code",
   "execution_count": 13,
   "id": "d8a403d5",
   "metadata": {},
   "outputs": [
    {
     "data": {
      "image/png": "[encoded data removed]",
      "text/plain": [
       "<Figure size 1152x792 with 2 Axes>"
      ]
     },
     "metadata": {
      "needs_background": "light"
     },
     "output_type": "display_data"
    }
   ],
   "source": [
    "import matplotlib.pyplot as plt\n",
    "import seaborn as sns\n",
    "from sklearn.metrics import confusion_matrix\n",
    "%matplotlib inline\n",
    "\n",
    "tags = hmm_tagger.tags[:-1]\n",
    "\n",
    "cm = confusion_matrix(\n",
    "    list(itertools.chain.from_iterable(test['pos_tags_list'])),\n",
    "    list(itertools.chain.from_iterable(hmm_preds)),\n",
    "    labels = tags,\n",
    "    normalize='true')\n",
    "\n",
    "plt.figure(figsize=(16, 11))\n",
    "sns.heatmap(cm, annot=True, fmt='1.1f', cmap='jet', xticklabels=tags, yticklabels=tags)\n",
    "plt.xlabel('pred')\n",
    "plt.ylabel('true')\n",
    "plt.show()"
   ]
  },
  {
   "cell_type": "markdown",
   "id": "e3685555",
   "metadata": {},
   "source": [
    "## 8.7\n",
    "Develop a set of regular expressions to recognize the character shape features described on page 17.\n",
    "\n",
    "$\n",
    "1\\{x_{i} = the,\\ y_{i} = DET\\} \\\\\n",
    "1\\{y_{i} = PROPN,\\ x_{i}+1 = Street,\\ y_{i}−1 = NUM\\} \\\\\n",
    "1\\{y_{i} = VERB,\\ y_{i}−1 = AUX\\}\n",
    "$"
   ]
  },
  {
   "cell_type": "code",
   "execution_count": null,
   "id": "8f85a661",
   "metadata": {},
   "outputs": [],
   "source": []
  },
  {
   "cell_type": "markdown",
   "id": "3a2d878c",
   "metadata": {},
   "source": [
    "## 8.8\n",
    "The BIO and other labeling schemes given in this chapter aren’t the only possible one. For example, the $B$ tag can be reserved only for those situations where an ambiguity exists between adjacent entities. Propose a new set of $BIO$ tags for use with your NER system. Experiment with it and compare its performance with the schemes presented in this chapter."
   ]
  },
  {
   "cell_type": "code",
   "execution_count": null,
   "id": "9e94ec55",
   "metadata": {},
   "outputs": [],
   "source": []
  },
  {
   "cell_type": "markdown",
   "id": "8532121b",
   "metadata": {},
   "source": [
    "## 8.9\n",
    "Names of works of art (books, movies, video games, etc.) are quite different from the kinds of named entities we’ve discussed in this chapter. Collect a list of names of works of art from a particular category from a Web-based source (e.g., gutenberg.org, amazon.com, imdb.com, etc.). Analyze your list and give examples of ways that the names in it are likely to be problematic for the techniques described in this chapter."
   ]
  },
  {
   "cell_type": "code",
   "execution_count": null,
   "id": "ec1110b4",
   "metadata": {},
   "outputs": [],
   "source": []
  },
  {
   "cell_type": "markdown",
   "id": "bdf32428",
   "metadata": {},
   "source": [
    "## 8.10\n",
    "Develop an NER system specific to the category of names that you collected in the last exercise. Evaluate your system on a collection of text likely to contain instances of these named entities."
   ]
  },
  {
   "cell_type": "code",
   "execution_count": null,
   "id": "90d6cb01",
   "metadata": {},
   "outputs": [],
   "source": []
  }
 ],
 "metadata": {
  "kernelspec": {
   "display_name": "Python 3",
   "language": "python",
   "name": "python3"
  },
  "language_info": {
   "codemirror_mode": {
    "name": "ipython",
    "version": 3
   },
   "file_extension": ".py",
   "mimetype": "text/x-python",
   "name": "python",
   "nbconvert_exporter": "python",
   "pygments_lexer": "ipython3",
   "version": "3.8.7"
  }
 },
 "nbformat": 4,
 "nbformat_minor": 5
}
