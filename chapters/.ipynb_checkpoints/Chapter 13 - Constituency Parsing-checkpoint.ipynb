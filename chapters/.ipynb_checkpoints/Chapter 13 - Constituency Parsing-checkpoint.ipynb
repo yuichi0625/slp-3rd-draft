{
 "cells": [
  {
   "cell_type": "markdown",
   "id": "44f3e351",
   "metadata": {},
   "source": [
    "## 13.1\n",
    "Implement the algorithm to convert arbitrary context-free grammars to CNF. Apply your program to the $L1$ grammar."
   ]
  },
  {
   "cell_type": "code",
   "execution_count": 1,
   "id": "638051f9",
   "metadata": {},
   "outputs": [],
   "source": [
    "l1_grammar = \"\"\"\n",
    "S -> NP VP\n",
    "S -> Aux NP VP\n",
    "S -> VP\n",
    "NP -> Pronoun\n",
    "NP -> ProperNoun\n",
    "NP -> Det Nominal\n",
    "Nominal -> Noun\n",
    "Nominal -> Nominal Noun\n",
    "Nominal -> Nominal PP\n",
    "VP -> Verb\n",
    "VP -> Verb NP\n",
    "VP -> Verb NP PP\n",
    "VP -> Verb PP\n",
    "VP -> VP PP\n",
    "PP -> Preposition NP\n",
    "\n",
    "Pronoun -> 'I' | 'she'\n",
    "ProperNoun -> 'TWA' | 'Houston'\n",
    "Noun -> 'book' | 'flight'\n",
    "Verb -> 'book' | 'include'\n",
    "\"\"\""
   ]
  },
  {
   "cell_type": "code",
   "execution_count": null,
   "id": "93ff1275",
   "metadata": {},
   "outputs": [],
   "source": []
  },
  {
   "cell_type": "code",
   "execution_count": 2,
   "id": "ef7a7a62",
   "metadata": {},
   "outputs": [
    {
     "name": "stdout",
     "output_type": "stream",
     "text": [
      "NP -> 'Houston'\n",
      "NP -> 'I'\n",
      "NP -> 'TWA'\n",
      "NP -> 'she'\n",
      "NP -> Det Nominal\n",
      "Nominal -> 'book'\n",
      "Nominal -> 'flight'\n",
      "Nominal -> Nominal Noun\n",
      "Nominal -> Nominal PP\n",
      "Noun -> 'book'\n",
      "Noun -> 'flight'\n",
      "PP -> Preposition NP\n",
      "Pronoun -> 'I'\n",
      "Pronoun -> 'she'\n",
      "ProperNoun -> 'Houston'\n",
      "ProperNoun -> 'TWA'\n",
      "S -> 'book'\n",
      "S -> 'include'\n",
      "S -> Aux S@$@Aux\n",
      "S -> NP VP\n",
      "S -> VP PP\n",
      "S -> Verb NP\n",
      "S -> Verb PP\n",
      "S -> Verb VP@$@Verb\n",
      "S@$@Aux -> NP VP\n",
      "VP -> 'book'\n",
      "VP -> 'include'\n",
      "VP -> VP PP\n",
      "VP -> Verb NP\n",
      "VP -> Verb PP\n",
      "VP -> Verb VP@$@Verb\n",
      "VP@$@Verb -> NP PP\n",
      "Verb -> 'book'\n",
      "Verb -> 'include'\n"
     ]
    }
   ],
   "source": [
    "# 'nltk.grammar.CFG.chomsky_normal_form' computes CNF from CFG.\n",
    "import nltk\n",
    "\n",
    "grammar = nltk.CFG.fromstring(l1_grammar)\n",
    "\n",
    "cnf_prods = grammar.chomsky_normal_form().productions()\n",
    "for p in sorted([repr(p) for p in cnf_prods]):\n",
    "    print(p)"
   ]
  },
  {
   "cell_type": "code",
   "execution_count": null,
   "id": "4a2ab328",
   "metadata": {},
   "outputs": [],
   "source": []
  }
 ],
 "metadata": {
  "kernelspec": {
   "display_name": "Python 3",
   "language": "python",
   "name": "python3"
  },
  "language_info": {
   "codemirror_mode": {
    "name": "ipython",
    "version": 3
   },
   "file_extension": ".py",
   "mimetype": "text/x-python",
   "name": "python",
   "nbconvert_exporter": "python",
   "pygments_lexer": "ipython3",
   "version": "3.8.7"
  }
 },
 "nbformat": 4,
 "nbformat_minor": 5
}
